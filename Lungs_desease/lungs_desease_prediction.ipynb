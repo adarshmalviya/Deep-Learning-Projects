{
  "nbformat": 4,
  "nbformat_minor": 0,
  "metadata": {
    "colab": {
      "name": "kaggletocolab.ipynb",
      "provenance": [],
      "collapsed_sections": []
    },
    "kernelspec": {
      "name": "python3",
      "display_name": "Python 3"
    },
    "accelerator": "GPU"
  },
  "cells": [
    {
      "source": [
        "# Lungs Desease Prediction Model"
      ],
      "cell_type": "markdown",
      "metadata": {}
    },
    {
      "source": [
        "### Dataset Link :- https://www.kaggle.com/paultimothymooney/chest-xray-pneumonia"
      ],
      "cell_type": "markdown",
      "metadata": {}
    },
    {
      "cell_type": "markdown",
      "metadata": {
        "id": "CJwD7Th5TWjy"
      },
      "source": [
        "### Import Important Liberary"
      ]
    },
    {
      "cell_type": "code",
      "metadata": {
        "id": "YPBotMiETaKn"
      },
      "source": [
        "import pandas as pd\r\n",
        "import numpy as np\r\n",
        "import matplotlib.pyplot as plt\r\n",
        "from keras.layers import Dense, Flatten\r\n",
        "from keras.applications import VGG16\r\n",
        "from keras.models import Sequential"
      ],
      "execution_count": 2,
      "outputs": []
    },
    {
      "cell_type": "code",
      "metadata": {
        "id": "Um2kMYP1Tx5D"
      },
      "source": [
        "IMAGE_SIZE = [224,224]\r\n",
        "\r\n",
        "train_path = '/content/gdrive/MyDrive/kaggle_dataset/chest-xray-pneumonia/chest_xray/train'\r\n",
        "test_path = '/content/gdrive/MyDrive/kaggle_dataset/chest-xray-pneumonia/chest_xray/test'"
      ],
      "execution_count": 3,
      "outputs": []
    },
    {
      "cell_type": "markdown",
      "metadata": {
        "id": "-JHTU8mUPlqh"
      },
      "source": [
        "### Transfer Learning\n",
        "#### Using VGG16 Architecture "
      ]
    },
    {
      "cell_type": "code",
      "metadata": {
        "id": "xi8PkmPnT4lA"
      },
      "source": [
        "vgg = VGG16(include_top=False, weights='imagenet',input_shape=IMAGE_SIZE+[3])\r\n",
        "vgg.trainable = False"
      ],
      "execution_count": 34,
      "outputs": []
    },
    {
      "cell_type": "markdown",
      "metadata": {
        "id": "CB6bXoEgQHVu"
      },
      "source": [
        "### Adding Neural Network Layers"
      ]
    },
    {
      "cell_type": "code",
      "metadata": {
        "id": "wGl1JmhHVSpH"
      },
      "source": [
        "model = Sequential()\r\n",
        "model.add(vgg)\r\n",
        "model.add(Flatten())\r\n",
        "model.add(Dense(1, activation='sigmoid'))"
      ],
      "execution_count": 6,
      "outputs": []
    },
    {
      "cell_type": "code",
      "metadata": {
        "colab": {
          "base_uri": "https://localhost:8080/"
        },
        "id": "VXqUCviTx7ns",
        "outputId": "5c79ebec-a5c9-4d1c-bbf8-448c719258b8"
      },
      "source": [
        "model.summary()"
      ],
      "execution_count": 8,
      "outputs": [
        {
          "output_type": "stream",
          "text": [
            "Model: \"sequential\"\n",
            "_________________________________________________________________\n",
            "Layer (type)                 Output Shape              Param #   \n",
            "=================================================================\n",
            "vgg16 (Functional)           (None, 7, 7, 512)         14714688  \n",
            "_________________________________________________________________\n",
            "flatten (Flatten)            (None, 25088)             0         \n",
            "_________________________________________________________________\n",
            "dense (Dense)                (None, 1)                 25089     \n",
            "=================================================================\n",
            "Total params: 14,739,777\n",
            "Trainable params: 25,089\n",
            "Non-trainable params: 14,714,688\n",
            "_________________________________________________________________\n"
          ],
          "name": "stdout"
        }
      ]
    },
    {
      "cell_type": "markdown",
      "metadata": {
        "id": "wx7ynjCBObSs"
      },
      "source": [
        "### Compiling the model"
      ]
    },
    {
      "cell_type": "code",
      "metadata": {
        "id": "NFDS9hK9x9O3"
      },
      "source": [
        "model.compile(optimizer='adam',metrics=['accuracy'],loss='binary_crossentropy')"
      ],
      "execution_count": 29,
      "outputs": []
    },
    {
      "cell_type": "markdown",
      "metadata": {
        "id": "4iVIrAMqOs-C"
      },
      "source": [
        "### Data Augmentation"
      ]
    },
    {
      "cell_type": "code",
      "metadata": {
        "id": "qEBV_bCjypzv"
      },
      "source": [
        "from keras.preprocessing.image import ImageDataGenerator\r\n",
        "train_gen = ImageDataGenerator(rescale=1./255,horizontal_flip = True, shear_range=0.2, zoom_range=0.2)\r\n",
        "test_gen = ImageDataGenerator(rescale=1./255)\r\n",
        "valid_gen = ImageDataGenerator(rescale=1./255)"
      ],
      "execution_count": 18,
      "outputs": []
    },
    {
      "cell_type": "code",
      "metadata": {
        "colab": {
          "base_uri": "https://localhost:8080/"
        },
        "id": "I7l1ZOw-0Cae",
        "outputId": "34287549-1fe1-47b6-e054-fb6f0d1a2c01"
      },
      "source": [
        "train_generator = train_gen.flow_from_directory('/content/gdrive/MyDrive/kaggle_dataset/chest-xray-pneumonia/chest_xray/train',\r\n",
        "                                                target_size = (224, 224),\r\n",
        "                                                batch_size = 32,\r\n",
        "                                                class_mode='binary')"
      ],
      "execution_count": 22,
      "outputs": [
        {
          "output_type": "stream",
          "text": [
            "Found 5216 images belonging to 2 classes.\n"
          ],
          "name": "stdout"
        }
      ]
    },
    {
      "cell_type": "code",
      "metadata": {
        "colab": {
          "base_uri": "https://localhost:8080/"
        },
        "id": "NFnZRI0r0nJv",
        "outputId": "2ea7b8c2-9536-438b-a83c-ef73f2de743e"
      },
      "source": [
        "test_generator = test_gen.flow_from_directory('/content/gdrive/MyDrive/kaggle_dataset/chest-xray-pneumonia/chest_xray/test',\r\n",
        "                                              target_size = (224, 224),\r\n",
        "                                                batch_size = 32,\r\n",
        "                                                class_mode='binary')"
      ],
      "execution_count": 24,
      "outputs": [
        {
          "output_type": "stream",
          "text": [
            "Found 624 images belonging to 2 classes.\n"
          ],
          "name": "stdout"
        }
      ]
    },
    {
      "cell_type": "code",
      "metadata": {
        "colab": {
          "base_uri": "https://localhost:8080/"
        },
        "id": "mqbPgAatTiV4",
        "outputId": "234d00a7-98df-47aa-eb00-ef73e397d188"
      },
      "source": [
        "validation_generator = valid_gen.flow_from_directory('/content/gdrive/MyDrive/kaggle_dataset/chest-xray-pneumonia/chest_xray/val',\r\n",
        "                                                     target_size=(224,224),\r\n",
        "                                                     batch_size = 32,\r\n",
        "                                                     class_mode='binary')"
      ],
      "execution_count": 42,
      "outputs": [
        {
          "output_type": "stream",
          "text": [
            "Found 16 images belonging to 2 classes.\n"
          ],
          "name": "stdout"
        }
      ]
    },
    {
      "cell_type": "markdown",
      "metadata": {
        "id": "X6w0ubebPQKC"
      },
      "source": [
        "### Training the Model"
      ]
    },
    {
      "cell_type": "code",
      "metadata": {
        "colab": {
          "base_uri": "https://localhost:8080/"
        },
        "id": "3agqyRDQ3UBP",
        "outputId": "1df2f946-6f8f-4bff-de80-74fb79b1c29e"
      },
      "source": [
        "res = model.fit(train_generator, validation_data=validation_generator, batch_size=32, epochs=5)"
      ],
      "execution_count": 31,
      "outputs": [
        {
          "output_type": "stream",
          "text": [
            "Epoch 1/5\n",
            "163/163 [==============================] - 1477s 9s/step - loss: 0.1645 - accuracy: 0.9358 - val_loss: 0.2220 - val_accuracy: 0.9263\n",
            "Epoch 2/5\n",
            "163/163 [==============================] - 109s 670ms/step - loss: 0.1086 - accuracy: 0.9599 - val_loss: 0.2243 - val_accuracy: 0.9263\n",
            "Epoch 3/5\n",
            "163/163 [==============================] - 108s 665ms/step - loss: 0.1071 - accuracy: 0.9580 - val_loss: 0.2277 - val_accuracy: 0.9215\n",
            "Epoch 4/5\n",
            "163/163 [==============================] - 109s 669ms/step - loss: 0.0875 - accuracy: 0.9661 - val_loss: 0.4703 - val_accuracy: 0.8622\n",
            "Epoch 5/5\n",
            "163/163 [==============================] - 109s 667ms/step - loss: 0.1006 - accuracy: 0.9630 - val_loss: 0.2537 - val_accuracy: 0.9263\n"
          ],
          "name": "stdout"
        }
      ]
    },
    {
      "cell_type": "markdown",
      "metadata": {
        "id": "cU8YqNcCPXJ9"
      },
      "source": [
        "### Saving The Model"
      ]
    },
    {
      "cell_type": "code",
      "metadata": {
        "id": "n8eekyffNML_"
      },
      "source": [
        "from keras.models import load_model\r\n",
        "model.save('lungs_disease_prediction.h5')"
      ],
      "execution_count": 33,
      "outputs": []
    },
    {
      "cell_type": "markdown",
      "metadata": {
        "id": "vN01yPepRipG"
      },
      "source": [
        "### Analyzing the of Model"
      ]
    },
    {
      "cell_type": "code",
      "metadata": {
        "colab": {
          "base_uri": "https://localhost:8080/",
          "height": 321
        },
        "id": "02TYnw0VNtLx",
        "outputId": "fe6cffff-0a2c-4847-e692-89543cab19f1"
      },
      "source": [
        "pd.DataFrame(res.history).plot(figsize=(8,5))\r\n",
        "plt.grid(True)\r\n",
        "plt.show()"
      ],
      "execution_count": 38,
      "outputs": [
        {
          "output_type": "display_data",
          "data": {
            "image/png": "[encoded data removed]",
            "text/plain": [
              "<Figure size 576x360 with 1 Axes>"
            ]
          },
          "metadata": {
            "tags": [],
            "needs_background": "light"
          }
        }
      ]
    },
    {
      "cell_type": "code",
      "metadata": {
        "colab": {
          "base_uri": "https://localhost:8080/"
        },
        "id": "yzm7DYzCUwNo",
        "outputId": "5dc2b3ad-1959-452d-a5c4-204c35586b91"
      },
      "source": [
        "accuracy = model.evaluate_generator(test_generator)[1]*100"
      ],
      "execution_count": 46,
      "outputs": [
        {
          "output_type": "stream",
          "text": [
            "/usr/local/lib/python3.6/dist-packages/tensorflow/python/keras/engine/training.py:1877: UserWarning: `Model.evaluate_generator` is deprecated and will be removed in a future version. Please use `Model.evaluate`, which supports generators.\n",
            "  warnings.warn('`Model.evaluate_generator` is deprecated and '\n"
          ],
          "name": "stderr"
        }
      ]
    },
    {
      "cell_type": "code",
      "metadata": {
        "colab": {
          "base_uri": "https://localhost:8080/"
        },
        "id": "HcNaRG67Q-Xu",
        "outputId": "228c80fe-c627-4387-a6a7-5d644ff73e68"
      },
      "source": [
        "print(\"Accuracy of Model :=> \" ,accuracy,\"%\")"
      ],
      "execution_count": 47,
      "outputs": [
        {
          "output_type": "stream",
          "text": [
            "Accuracy of Model :=>  93.75 %\n"
          ],
          "name": "stdout"
        }
      ]
    }
  ]
}