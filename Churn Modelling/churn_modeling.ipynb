{
 "metadata": {
  "language_info": {
   "codemirror_mode": {
    "name": "ipython",
    "version": 3
   },
   "file_extension": ".py",
   "mimetype": "text/x-python",
   "name": "python",
   "nbconvert_exporter": "python",
   "pygments_lexer": "ipython3",
   "version": "3.8.3-final"
  },
  "orig_nbformat": 2,
  "kernelspec": {
   "name": "python3",
   "display_name": "Python 3.8.3 64-bit",
   "metadata": {
    "interpreter": {
     "hash": "9ddfba760c93d0781cb88c4db9a31eb68ca4e1616821530f19d735f356a5c9ec"
    }
   }
  }
 },
 "nbformat": 4,
 "nbformat_minor": 2,
 "cells": [
  {
   "source": [
    "# Artificial Neural Network"
   ],
   "cell_type": "markdown",
   "metadata": {}
  },
  {
   "source": [
    "## Data preprocessing"
   ],
   "cell_type": "markdown",
   "metadata": {}
  },
  {
   "source": [
    "### Import Dataset and important liberary"
   ],
   "cell_type": "markdown",
   "metadata": {}
  },
  {
   "cell_type": "code",
   "execution_count": 1,
   "metadata": {},
   "outputs": [],
   "source": [
    "import numpy as np\n",
    "import matplotlib.pyplot as plt\n",
    "import pandas as pd"
   ]
  },
  {
   "cell_type": "code",
   "execution_count": 2,
   "metadata": {},
   "outputs": [
    {
     "output_type": "execute_result",
     "data": {
      "text/plain": [
       "   RowNumber  CustomerId   Surname  CreditScore Geography  Gender  Age  \\\n",
       "0          1    15634602  Hargrave          619    France  Female   42   \n",
       "1          2    15647311      Hill          608     Spain  Female   41   \n",
       "2          3    15619304      Onio          502    France  Female   42   \n",
       "3          4    15701354      Boni          699    France  Female   39   \n",
       "4          5    15737888  Mitchell          850     Spain  Female   43   \n",
       "\n",
       "   Tenure    Balance  NumOfProducts  HasCrCard  IsActiveMember  \\\n",
       "0       2       0.00              1          1               1   \n",
       "1       1   83807.86              1          0               1   \n",
       "2       8  159660.80              3          1               0   \n",
       "3       1       0.00              2          0               0   \n",
       "4       2  125510.82              1          1               1   \n",
       "\n",
       "   EstimatedSalary  Exited  \n",
       "0        101348.88       1  \n",
       "1        112542.58       0  \n",
       "2        113931.57       1  \n",
       "3         93826.63       0  \n",
       "4         79084.10       0  "
      ],
      "text/html": "<div>\n<style scoped>\n    .dataframe tbody tr th:only-of-type {\n        vertical-align: middle;\n    }\n\n    .dataframe tbody tr th {\n        vertical-align: top;\n    }\n\n    .dataframe thead th {\n        text-align: right;\n    }\n</style>\n<table border=\"1\" class=\"dataframe\">\n  <thead>\n    <tr style=\"text-align: right;\">\n      <th></th>\n      <th>RowNumber</th>\n      <th>CustomerId</th>\n      <th>Surname</th>\n      <th>CreditScore</th>\n      <th>Geography</th>\n      <th>Gender</th>\n      <th>Age</th>\n      <th>Tenure</th>\n      <th>Balance</th>\n      <th>NumOfProducts</th>\n      <th>HasCrCard</th>\n      <th>IsActiveMember</th>\n      <th>EstimatedSalary</th>\n      <th>Exited</th>\n    </tr>\n  </thead>\n  <tbody>\n    <tr>\n      <th>0</th>\n      <td>1</td>\n      <td>15634602</td>\n      <td>Hargrave</td>\n      <td>619</td>\n      <td>France</td>\n      <td>Female</td>\n      <td>42</td>\n      <td>2</td>\n      <td>0.00</td>\n      <td>1</td>\n      <td>1</td>\n      <td>1</td>\n      <td>101348.88</td>\n      <td>1</td>\n    </tr>\n    <tr>\n      <th>1</th>\n      <td>2</td>\n      <td>15647311</td>\n      <td>Hill</td>\n      <td>608</td>\n      <td>Spain</td>\n      <td>Female</td>\n      <td>41</td>\n      <td>1</td>\n      <td>83807.86</td>\n      <td>1</td>\n      <td>0</td>\n      <td>1</td>\n      <td>112542.58</td>\n      <td>0</td>\n    </tr>\n    <tr>\n      <th>2</th>\n      <td>3</td>\n      <td>15619304</td>\n      <td>Onio</td>\n      <td>502</td>\n      <td>France</td>\n      <td>Female</td>\n      <td>42</td>\n      <td>8</td>\n      <td>159660.80</td>\n      <td>3</td>\n      <td>1</td>\n      <td>0</td>\n      <td>113931.57</td>\n      <td>1</td>\n    </tr>\n    <tr>\n      <th>3</th>\n      <td>4</td>\n      <td>15701354</td>\n      <td>Boni</td>\n      <td>699</td>\n      <td>France</td>\n      <td>Female</td>\n      <td>39</td>\n      <td>1</td>\n      <td>0.00</td>\n      <td>2</td>\n      <td>0</td>\n      <td>0</td>\n      <td>93826.63</td>\n      <td>0</td>\n    </tr>\n    <tr>\n      <th>4</th>\n      <td>5</td>\n      <td>15737888</td>\n      <td>Mitchell</td>\n      <td>850</td>\n      <td>Spain</td>\n      <td>Female</td>\n      <td>43</td>\n      <td>2</td>\n      <td>125510.82</td>\n      <td>1</td>\n      <td>1</td>\n      <td>1</td>\n      <td>79084.10</td>\n      <td>0</td>\n    </tr>\n  </tbody>\n</table>\n</div>"
     },
     "metadata": {},
     "execution_count": 2
    }
   ],
   "source": [
    "dataset = pd.read_csv(\"Churn_modelling.csv\")\n",
    "dataset.head()"
   ]
  },
  {
   "cell_type": "code",
   "execution_count": 3,
   "metadata": {},
   "outputs": [],
   "source": [
    "X = dataset.iloc[:,:-1]\n",
    "Y = dataset.iloc[:,-1]"
   ]
  },
  {
   "cell_type": "code",
   "execution_count": 4,
   "metadata": {},
   "outputs": [],
   "source": [
    "X.drop(labels=X.iloc[:,:3].columns, axis=1, inplace=True)"
   ]
  },
  {
   "cell_type": "code",
   "execution_count": 5,
   "metadata": {},
   "outputs": [
    {
     "output_type": "execute_result",
     "data": {
      "text/plain": [
       "   CreditScore Geography  Gender  Age  Tenure    Balance  NumOfProducts  \\\n",
       "0          619    France  Female   42       2       0.00              1   \n",
       "1          608     Spain  Female   41       1   83807.86              1   \n",
       "2          502    France  Female   42       8  159660.80              3   \n",
       "3          699    France  Female   39       1       0.00              2   \n",
       "4          850     Spain  Female   43       2  125510.82              1   \n",
       "\n",
       "   HasCrCard  IsActiveMember  EstimatedSalary  \n",
       "0          1               1        101348.88  \n",
       "1          0               1        112542.58  \n",
       "2          1               0        113931.57  \n",
       "3          0               0         93826.63  \n",
       "4          1               1         79084.10  "
      ],
      "text/html": "<div>\n<style scoped>\n    .dataframe tbody tr th:only-of-type {\n        vertical-align: middle;\n    }\n\n    .dataframe tbody tr th {\n        vertical-align: top;\n    }\n\n    .dataframe thead th {\n        text-align: right;\n    }\n</style>\n<table border=\"1\" class=\"dataframe\">\n  <thead>\n    <tr style=\"text-align: right;\">\n      <th></th>\n      <th>CreditScore</th>\n      <th>Geography</th>\n      <th>Gender</th>\n      <th>Age</th>\n      <th>Tenure</th>\n      <th>Balance</th>\n      <th>NumOfProducts</th>\n      <th>HasCrCard</th>\n      <th>IsActiveMember</th>\n      <th>EstimatedSalary</th>\n    </tr>\n  </thead>\n  <tbody>\n    <tr>\n      <th>0</th>\n      <td>619</td>\n      <td>France</td>\n      <td>Female</td>\n      <td>42</td>\n      <td>2</td>\n      <td>0.00</td>\n      <td>1</td>\n      <td>1</td>\n      <td>1</td>\n      <td>101348.88</td>\n    </tr>\n    <tr>\n      <th>1</th>\n      <td>608</td>\n      <td>Spain</td>\n      <td>Female</td>\n      <td>41</td>\n      <td>1</td>\n      <td>83807.86</td>\n      <td>1</td>\n      <td>0</td>\n      <td>1</td>\n      <td>112542.58</td>\n    </tr>\n    <tr>\n      <th>2</th>\n      <td>502</td>\n      <td>France</td>\n      <td>Female</td>\n      <td>42</td>\n      <td>8</td>\n      <td>159660.80</td>\n      <td>3</td>\n      <td>1</td>\n      <td>0</td>\n      <td>113931.57</td>\n    </tr>\n    <tr>\n      <th>3</th>\n      <td>699</td>\n      <td>France</td>\n      <td>Female</td>\n      <td>39</td>\n      <td>1</td>\n      <td>0.00</td>\n      <td>2</td>\n      <td>0</td>\n      <td>0</td>\n      <td>93826.63</td>\n    </tr>\n    <tr>\n      <th>4</th>\n      <td>850</td>\n      <td>Spain</td>\n      <td>Female</td>\n      <td>43</td>\n      <td>2</td>\n      <td>125510.82</td>\n      <td>1</td>\n      <td>1</td>\n      <td>1</td>\n      <td>79084.10</td>\n    </tr>\n  </tbody>\n</table>\n</div>"
     },
     "metadata": {},
     "execution_count": 5
    }
   ],
   "source": [
    "X.head()"
   ]
  },
  {
   "cell_type": "code",
   "execution_count": 7,
   "metadata": {},
   "outputs": [],
   "source": [
    "geo_dummie = pd.get_dummies(X['Geography'], drop_first = True)\n",
    "gen_dummie = pd.get_dummies(X['Gender'], drop_first = True)"
   ]
  },
  {
   "cell_type": "code",
   "execution_count": 8,
   "metadata": {},
   "outputs": [
    {
     "output_type": "execute_result",
     "data": {
      "text/plain": [
       "      CreditScore  Age  Tenure    Balance  NumOfProducts  HasCrCard  \\\n",
       "0             619   42       2       0.00              1          1   \n",
       "1             608   41       1   83807.86              1          0   \n",
       "2             502   42       8  159660.80              3          1   \n",
       "3             699   39       1       0.00              2          0   \n",
       "4             850   43       2  125510.82              1          1   \n",
       "...           ...  ...     ...        ...            ...        ...   \n",
       "9995          771   39       5       0.00              2          1   \n",
       "9996          516   35      10   57369.61              1          1   \n",
       "9997          709   36       7       0.00              1          0   \n",
       "9998          772   42       3   75075.31              2          1   \n",
       "9999          792   28       4  130142.79              1          1   \n",
       "\n",
       "      IsActiveMember  EstimatedSalary  Germany  Spain  Male  \n",
       "0                  1        101348.88        0      0     0  \n",
       "1                  1        112542.58        0      1     0  \n",
       "2                  0        113931.57        0      0     0  \n",
       "3                  0         93826.63        0      0     0  \n",
       "4                  1         79084.10        0      1     0  \n",
       "...              ...              ...      ...    ...   ...  \n",
       "9995               0         96270.64        0      0     1  \n",
       "9996               1        101699.77        0      0     1  \n",
       "9997               1         42085.58        0      0     0  \n",
       "9998               0         92888.52        1      0     1  \n",
       "9999               0         38190.78        0      0     0  \n",
       "\n",
       "[10000 rows x 11 columns]"
      ],
      "text/html": "<div>\n<style scoped>\n    .dataframe tbody tr th:only-of-type {\n        vertical-align: middle;\n    }\n\n    .dataframe tbody tr th {\n        vertical-align: top;\n    }\n\n    .dataframe thead th {\n        text-align: right;\n    }\n</style>\n<table border=\"1\" class=\"dataframe\">\n  <thead>\n    <tr style=\"text-align: right;\">\n      <th></th>\n      <th>CreditScore</th>\n      <th>Age</th>\n      <th>Tenure</th>\n      <th>Balance</th>\n      <th>NumOfProducts</th>\n      <th>HasCrCard</th>\n      <th>IsActiveMember</th>\n      <th>EstimatedSalary</th>\n      <th>Germany</th>\n      <th>Spain</th>\n      <th>Male</th>\n    </tr>\n  </thead>\n  <tbody>\n    <tr>\n      <th>0</th>\n      <td>619</td>\n      <td>42</td>\n      <td>2</td>\n      <td>0.00</td>\n      <td>1</td>\n      <td>1</td>\n      <td>1</td>\n      <td>101348.88</td>\n      <td>0</td>\n      <td>0</td>\n      <td>0</td>\n    </tr>\n    <tr>\n      <th>1</th>\n      <td>608</td>\n      <td>41</td>\n      <td>1</td>\n      <td>83807.86</td>\n      <td>1</td>\n      <td>0</td>\n      <td>1</td>\n      <td>112542.58</td>\n      <td>0</td>\n      <td>1</td>\n      <td>0</td>\n    </tr>\n    <tr>\n      <th>2</th>\n      <td>502</td>\n      <td>42</td>\n      <td>8</td>\n      <td>159660.80</td>\n      <td>3</td>\n      <td>1</td>\n      <td>0</td>\n      <td>113931.57</td>\n      <td>0</td>\n      <td>0</td>\n      <td>0</td>\n    </tr>\n    <tr>\n      <th>3</th>\n      <td>699</td>\n      <td>39</td>\n      <td>1</td>\n      <td>0.00</td>\n      <td>2</td>\n      <td>0</td>\n      <td>0</td>\n      <td>93826.63</td>\n      <td>0</td>\n      <td>0</td>\n      <td>0</td>\n    </tr>\n    <tr>\n      <th>4</th>\n      <td>850</td>\n      <td>43</td>\n      <td>2</td>\n      <td>125510.82</td>\n      <td>1</td>\n      <td>1</td>\n      <td>1</td>\n      <td>79084.10</td>\n      <td>0</td>\n      <td>1</td>\n      <td>0</td>\n    </tr>\n    <tr>\n      <th>...</th>\n      <td>...</td>\n      <td>...</td>\n      <td>...</td>\n      <td>...</td>\n      <td>...</td>\n      <td>...</td>\n      <td>...</td>\n      <td>...</td>\n      <td>...</td>\n      <td>...</td>\n      <td>...</td>\n    </tr>\n    <tr>\n      <th>9995</th>\n      <td>771</td>\n      <td>39</td>\n      <td>5</td>\n      <td>0.00</td>\n      <td>2</td>\n      <td>1</td>\n      <td>0</td>\n      <td>96270.64</td>\n      <td>0</td>\n      <td>0</td>\n      <td>1</td>\n    </tr>\n    <tr>\n      <th>9996</th>\n      <td>516</td>\n      <td>35</td>\n      <td>10</td>\n      <td>57369.61</td>\n      <td>1</td>\n      <td>1</td>\n      <td>1</td>\n      <td>101699.77</td>\n      <td>0</td>\n      <td>0</td>\n      <td>1</td>\n    </tr>\n    <tr>\n      <th>9997</th>\n      <td>709</td>\n      <td>36</td>\n      <td>7</td>\n      <td>0.00</td>\n      <td>1</td>\n      <td>0</td>\n      <td>1</td>\n      <td>42085.58</td>\n      <td>0</td>\n      <td>0</td>\n      <td>0</td>\n    </tr>\n    <tr>\n      <th>9998</th>\n      <td>772</td>\n      <td>42</td>\n      <td>3</td>\n      <td>75075.31</td>\n      <td>2</td>\n      <td>1</td>\n      <td>0</td>\n      <td>92888.52</td>\n      <td>1</td>\n      <td>0</td>\n      <td>1</td>\n    </tr>\n    <tr>\n      <th>9999</th>\n      <td>792</td>\n      <td>28</td>\n      <td>4</td>\n      <td>130142.79</td>\n      <td>1</td>\n      <td>1</td>\n      <td>0</td>\n      <td>38190.78</td>\n      <td>0</td>\n      <td>0</td>\n      <td>0</td>\n    </tr>\n  </tbody>\n</table>\n<p>10000 rows × 11 columns</p>\n</div>"
     },
     "metadata": {},
     "execution_count": 8
    }
   ],
   "source": [
    "X.drop(labels=['Geography','Gender'], axis=1, inplace=True)\n",
    "X = pd.concat([X, geo_dummie, gen_dummie], axis=1)\n",
    "X"
   ]
  },
  {
   "source": [
    "### Split Data into train test data"
   ],
   "cell_type": "markdown",
   "metadata": {}
  },
  {
   "cell_type": "code",
   "execution_count": 9,
   "metadata": {},
   "outputs": [],
   "source": [
    "from sklearn.model_selection import train_test_split\n",
    "X_train, X_test, y_train, y_test = train_test_split(X,Y, test_size = 0.22, random_state=10)"
   ]
  },
  {
   "cell_type": "code",
   "execution_count": 10,
   "metadata": {},
   "outputs": [],
   "source": [
    "from sklearn.preprocessing import StandardScaler\n",
    "sc_scale = StandardScaler()\n",
    "X_train = sc_scale.fit_transform(X_train)\n",
    "X_test = sc_scale.fit_transform(X_test)"
   ]
  },
  {
   "source": [
    "## Creating Aritificial Neural Network"
   ],
   "cell_type": "markdown",
   "metadata": {}
  },
  {
   "source": [
    "\n",
    "### Import Keras Liberaries and Packages"
   ],
   "cell_type": "markdown",
   "metadata": {}
  },
  {
   "cell_type": "code",
   "execution_count": 11,
   "metadata": {},
   "outputs": [],
   "source": [
    "import keras\n",
    "from keras.models import Sequential\n",
    "from keras.layers import Dense\n",
    "from keras.layers import LeakyReLU, PReLU, ELU\n",
    "from keras.layers import Dropout"
   ]
  },
  {
   "cell_type": "code",
   "execution_count": 12,
   "metadata": {},
   "outputs": [],
   "source": [
    "#Initialising the ANN\n",
    "classifier = Sequential()"
   ]
  },
  {
   "cell_type": "code",
   "execution_count": 19,
   "metadata": {},
   "outputs": [],
   "source": [
    "classifier.add(Dense(input_dim=11, units = 6, kernel_initializer = 'he_uniform', activation='relu'))\n",
    "classifier.add(Dense(units = 6, kernel_initializer = 'he_uniform', activation = 'relu'))\n",
    "classifier.add(Dense(units= 1,kernel_initializer = 'glorot_uniform', activation = 'sigmoid'))"
   ]
  },
  {
   "cell_type": "code",
   "execution_count": 24,
   "metadata": {},
   "outputs": [],
   "source": [
    "classifier.compile(optimizer='Adamax', loss='binary_crossentropy', metrics=['accuracy'])"
   ]
  },
  {
   "cell_type": "code",
   "execution_count": 27,
   "metadata": {},
   "outputs": [
    {
     "output_type": "stream",
     "name": "stdout",
     "text": [
      "Epoch 1/70\n",
      "523/523 [==============================] - 1s 2ms/step - loss: 0.4124 - accuracy: 0.8189 - val_loss: 0.4240 - val_accuracy: 0.8113\n",
      "Epoch 2/70\n",
      "523/523 [==============================] - 1s 2ms/step - loss: 0.4116 - accuracy: 0.8186 - val_loss: 0.4238 - val_accuracy: 0.8109\n",
      "Epoch 3/70\n",
      "523/523 [==============================] - 2s 4ms/step - loss: 0.4108 - accuracy: 0.8197 - val_loss: 0.4225 - val_accuracy: 0.8140\n",
      "Epoch 4/70\n",
      "523/523 [==============================] - 1s 2ms/step - loss: 0.4100 - accuracy: 0.8211 - val_loss: 0.4220 - val_accuracy: 0.8136\n",
      "Epoch 5/70\n",
      "523/523 [==============================] - 1s 2ms/step - loss: 0.4091 - accuracy: 0.8218 - val_loss: 0.4222 - val_accuracy: 0.8113\n",
      "Epoch 6/70\n",
      "523/523 [==============================] - 1s 2ms/step - loss: 0.4085 - accuracy: 0.8209 - val_loss: 0.4207 - val_accuracy: 0.8128\n",
      "Epoch 7/70\n",
      "523/523 [==============================] - 1s 2ms/step - loss: 0.4078 - accuracy: 0.8222 - val_loss: 0.4198 - val_accuracy: 0.8132\n",
      "Epoch 8/70\n",
      "523/523 [==============================] - 1s 2ms/step - loss: 0.4070 - accuracy: 0.8222 - val_loss: 0.4190 - val_accuracy: 0.8151\n",
      "Epoch 9/70\n",
      "523/523 [==============================] - 1s 2ms/step - loss: 0.4062 - accuracy: 0.8220 - val_loss: 0.4184 - val_accuracy: 0.8132\n",
      "Epoch 10/70\n",
      "523/523 [==============================] - 2s 3ms/step - loss: 0.4055 - accuracy: 0.8226 - val_loss: 0.4173 - val_accuracy: 0.8132\n",
      "Epoch 11/70\n",
      "523/523 [==============================] - 1s 3ms/step - loss: 0.4045 - accuracy: 0.8228 - val_loss: 0.4163 - val_accuracy: 0.8144\n",
      "Epoch 12/70\n",
      "523/523 [==============================] - 1s 2ms/step - loss: 0.4036 - accuracy: 0.8235 - val_loss: 0.4154 - val_accuracy: 0.8151\n",
      "Epoch 13/70\n",
      "523/523 [==============================] - 1s 2ms/step - loss: 0.4028 - accuracy: 0.8224 - val_loss: 0.4154 - val_accuracy: 0.8120\n",
      "Epoch 14/70\n",
      "523/523 [==============================] - 2s 3ms/step - loss: 0.4018 - accuracy: 0.8241 - val_loss: 0.4130 - val_accuracy: 0.8167\n",
      "Epoch 15/70\n",
      "523/523 [==============================] - 1s 2ms/step - loss: 0.4011 - accuracy: 0.8241 - val_loss: 0.4133 - val_accuracy: 0.8140\n",
      "Epoch 16/70\n",
      "523/523 [==============================] - 1s 2ms/step - loss: 0.4003 - accuracy: 0.8249 - val_loss: 0.4114 - val_accuracy: 0.8163\n",
      "Epoch 17/70\n",
      "523/523 [==============================] - 1s 2ms/step - loss: 0.3993 - accuracy: 0.8243 - val_loss: 0.4106 - val_accuracy: 0.8167\n",
      "Epoch 18/70\n",
      "523/523 [==============================] - 1s 2ms/step - loss: 0.3986 - accuracy: 0.8255 - val_loss: 0.4098 - val_accuracy: 0.8167\n",
      "Epoch 19/70\n",
      "523/523 [==============================] - 1s 2ms/step - loss: 0.3978 - accuracy: 0.8270 - val_loss: 0.4088 - val_accuracy: 0.8171\n",
      "Epoch 20/70\n",
      "523/523 [==============================] - 1s 2ms/step - loss: 0.3969 - accuracy: 0.8260 - val_loss: 0.4075 - val_accuracy: 0.8190\n",
      "Epoch 21/70\n",
      "523/523 [==============================] - 1s 2ms/step - loss: 0.3961 - accuracy: 0.8266 - val_loss: 0.4066 - val_accuracy: 0.8190\n",
      "Epoch 22/70\n",
      "523/523 [==============================] - 1s 2ms/step - loss: 0.3950 - accuracy: 0.8253 - val_loss: 0.4063 - val_accuracy: 0.8155\n",
      "Epoch 23/70\n",
      "523/523 [==============================] - 1s 2ms/step - loss: 0.3940 - accuracy: 0.8268 - val_loss: 0.4045 - val_accuracy: 0.8190\n",
      "Epoch 24/70\n",
      "523/523 [==============================] - 1s 2ms/step - loss: 0.3930 - accuracy: 0.8276 - val_loss: 0.4036 - val_accuracy: 0.8171\n",
      "Epoch 25/70\n",
      "523/523 [==============================] - 1s 2ms/step - loss: 0.3919 - accuracy: 0.8264 - val_loss: 0.4028 - val_accuracy: 0.8144\n",
      "Epoch 26/70\n",
      "523/523 [==============================] - 1s 2ms/step - loss: 0.3909 - accuracy: 0.8266 - val_loss: 0.4002 - val_accuracy: 0.8214\n",
      "Epoch 27/70\n",
      "523/523 [==============================] - 1s 2ms/step - loss: 0.3897 - accuracy: 0.8274 - val_loss: 0.3993 - val_accuracy: 0.8202\n",
      "Epoch 28/70\n",
      "523/523 [==============================] - 2s 3ms/step - loss: 0.3885 - accuracy: 0.8289 - val_loss: 0.3980 - val_accuracy: 0.8210\n",
      "Epoch 29/70\n",
      "523/523 [==============================] - 1s 2ms/step - loss: 0.3874 - accuracy: 0.8297 - val_loss: 0.3968 - val_accuracy: 0.8221\n",
      "Epoch 30/70\n",
      "523/523 [==============================] - 1s 2ms/step - loss: 0.3860 - accuracy: 0.8300 - val_loss: 0.3948 - val_accuracy: 0.8237\n",
      "Epoch 31/70\n",
      "523/523 [==============================] - 1s 2ms/step - loss: 0.3846 - accuracy: 0.8320 - val_loss: 0.3929 - val_accuracy: 0.8272\n",
      "Epoch 32/70\n",
      "523/523 [==============================] - 2s 3ms/step - loss: 0.3831 - accuracy: 0.8344 - val_loss: 0.3903 - val_accuracy: 0.8303\n",
      "Epoch 33/70\n",
      "523/523 [==============================] - 1s 2ms/step - loss: 0.3815 - accuracy: 0.8341 - val_loss: 0.3889 - val_accuracy: 0.8311\n",
      "Epoch 34/70\n",
      "523/523 [==============================] - 1s 2ms/step - loss: 0.3800 - accuracy: 0.8360 - val_loss: 0.3868 - val_accuracy: 0.8330\n",
      "Epoch 35/70\n",
      "523/523 [==============================] - 1s 2ms/step - loss: 0.3783 - accuracy: 0.8381 - val_loss: 0.3854 - val_accuracy: 0.8357\n",
      "Epoch 36/70\n",
      "523/523 [==============================] - 2s 3ms/step - loss: 0.3764 - accuracy: 0.8394 - val_loss: 0.3827 - val_accuracy: 0.8369\n",
      "Epoch 37/70\n",
      "523/523 [==============================] - 2s 3ms/step - loss: 0.3744 - accuracy: 0.8417 - val_loss: 0.3813 - val_accuracy: 0.8400\n",
      "Epoch 38/70\n",
      "523/523 [==============================] - 2s 3ms/step - loss: 0.3725 - accuracy: 0.8434 - val_loss: 0.3790 - val_accuracy: 0.8416\n",
      "Epoch 39/70\n",
      "523/523 [==============================] - 1s 2ms/step - loss: 0.3705 - accuracy: 0.8463 - val_loss: 0.3770 - val_accuracy: 0.8435\n",
      "Epoch 40/70\n",
      "523/523 [==============================] - 1s 2ms/step - loss: 0.3690 - accuracy: 0.8486 - val_loss: 0.3751 - val_accuracy: 0.8443\n",
      "Epoch 41/70\n",
      "523/523 [==============================] - 1s 3ms/step - loss: 0.3674 - accuracy: 0.8480 - val_loss: 0.3737 - val_accuracy: 0.8466\n",
      "Epoch 42/70\n",
      "523/523 [==============================] - 2s 4ms/step - loss: 0.3658 - accuracy: 0.8480 - val_loss: 0.3716 - val_accuracy: 0.8474\n",
      "Epoch 43/70\n",
      "523/523 [==============================] - 2s 4ms/step - loss: 0.3642 - accuracy: 0.8521 - val_loss: 0.3694 - val_accuracy: 0.8474\n",
      "Epoch 44/70\n",
      "523/523 [==============================] - 2s 3ms/step - loss: 0.3625 - accuracy: 0.8521 - val_loss: 0.3662 - val_accuracy: 0.8470\n",
      "Epoch 45/70\n",
      "523/523 [==============================] - 2s 3ms/step - loss: 0.3609 - accuracy: 0.8534 - val_loss: 0.3645 - val_accuracy: 0.8478\n",
      "Epoch 46/70\n",
      "523/523 [==============================] - 1s 2ms/step - loss: 0.3594 - accuracy: 0.8536 - val_loss: 0.3636 - val_accuracy: 0.8478\n",
      "Epoch 47/70\n",
      "523/523 [==============================] - 1s 2ms/step - loss: 0.3579 - accuracy: 0.8540 - val_loss: 0.3622 - val_accuracy: 0.8497\n",
      "Epoch 48/70\n",
      "523/523 [==============================] - 1s 2ms/step - loss: 0.3565 - accuracy: 0.8551 - val_loss: 0.3598 - val_accuracy: 0.8509\n",
      "Epoch 49/70\n",
      "523/523 [==============================] - 2s 3ms/step - loss: 0.3551 - accuracy: 0.8567 - val_loss: 0.3582 - val_accuracy: 0.8517\n",
      "Epoch 50/70\n",
      "523/523 [==============================] - 1s 1ms/step - loss: 0.3536 - accuracy: 0.8551 - val_loss: 0.3576 - val_accuracy: 0.8528\n",
      "Epoch 51/70\n",
      "523/523 [==============================] - 1s 2ms/step - loss: 0.3524 - accuracy: 0.8572 - val_loss: 0.3560 - val_accuracy: 0.8544\n",
      "Epoch 52/70\n",
      "523/523 [==============================] - 1s 2ms/step - loss: 0.3511 - accuracy: 0.8576 - val_loss: 0.3563 - val_accuracy: 0.8544\n",
      "Epoch 53/70\n",
      "523/523 [==============================] - 1s 2ms/step - loss: 0.3502 - accuracy: 0.8584 - val_loss: 0.3527 - val_accuracy: 0.8563\n",
      "Epoch 54/70\n",
      "523/523 [==============================] - 1s 2ms/step - loss: 0.3491 - accuracy: 0.8588 - val_loss: 0.3517 - val_accuracy: 0.8567\n",
      "Epoch 55/70\n",
      "523/523 [==============================] - 1s 2ms/step - loss: 0.3481 - accuracy: 0.8586 - val_loss: 0.3531 - val_accuracy: 0.8563\n",
      "Epoch 56/70\n",
      "523/523 [==============================] - 1s 2ms/step - loss: 0.3475 - accuracy: 0.8572 - val_loss: 0.3505 - val_accuracy: 0.8571\n",
      "Epoch 57/70\n",
      "523/523 [==============================] - 1s 2ms/step - loss: 0.3467 - accuracy: 0.8591 - val_loss: 0.3496 - val_accuracy: 0.8575\n",
      "Epoch 58/70\n",
      "523/523 [==============================] - 1s 2ms/step - loss: 0.3462 - accuracy: 0.8568 - val_loss: 0.3497 - val_accuracy: 0.8571\n",
      "Epoch 59/70\n",
      "523/523 [==============================] - 1s 2ms/step - loss: 0.3453 - accuracy: 0.8582 - val_loss: 0.3477 - val_accuracy: 0.8594\n",
      "Epoch 60/70\n",
      "523/523 [==============================] - 1s 2ms/step - loss: 0.3448 - accuracy: 0.8570 - val_loss: 0.3487 - val_accuracy: 0.8579\n",
      "Epoch 61/70\n",
      "523/523 [==============================] - 1s 2ms/step - loss: 0.3444 - accuracy: 0.8574 - val_loss: 0.3475 - val_accuracy: 0.8579\n",
      "Epoch 62/70\n",
      "523/523 [==============================] - 1s 2ms/step - loss: 0.3437 - accuracy: 0.8563 - val_loss: 0.3486 - val_accuracy: 0.8559\n",
      "Epoch 63/70\n",
      "523/523 [==============================] - 2s 3ms/step - loss: 0.3434 - accuracy: 0.8578 - val_loss: 0.3463 - val_accuracy: 0.8579\n",
      "Epoch 64/70\n",
      "523/523 [==============================] - 2s 4ms/step - loss: 0.3428 - accuracy: 0.8574 - val_loss: 0.3468 - val_accuracy: 0.8571\n",
      "Epoch 65/70\n",
      "523/523 [==============================] - 2s 4ms/step - loss: 0.3424 - accuracy: 0.8574 - val_loss: 0.3449 - val_accuracy: 0.8606\n",
      "Epoch 66/70\n",
      "523/523 [==============================] - 1s 2ms/step - loss: 0.3420 - accuracy: 0.8570 - val_loss: 0.3462 - val_accuracy: 0.8571\n",
      "Epoch 67/70\n",
      "523/523 [==============================] - 1s 2ms/step - loss: 0.3415 - accuracy: 0.8570 - val_loss: 0.3442 - val_accuracy: 0.8610\n",
      "Epoch 68/70\n",
      "523/523 [==============================] - 1s 2ms/step - loss: 0.3410 - accuracy: 0.8565 - val_loss: 0.3452 - val_accuracy: 0.8575\n",
      "Epoch 69/70\n",
      "523/523 [==============================] - 1s 2ms/step - loss: 0.3409 - accuracy: 0.8576 - val_loss: 0.3439 - val_accuracy: 0.8610\n",
      "Epoch 70/70\n",
      "523/523 [==============================] - 1s 2ms/step - loss: 0.3404 - accuracy: 0.8565 - val_loss: 0.3439 - val_accuracy: 0.8594\n"
     ]
    }
   ],
   "source": [
    "model = classifier.fit(X_train, y_train, batch_size=10, epochs=70, validation_split=0.33)"
   ]
  },
  {
   "source": [
    "### Evaluating the model"
   ],
   "cell_type": "markdown",
   "metadata": {}
  },
  {
   "cell_type": "code",
   "execution_count": 34,
   "metadata": {},
   "outputs": [],
   "source": [
    "y_pred = classifier.predict(X_test)\n",
    "y_pred = y_pred>0.5"
   ]
  },
  {
   "cell_type": "code",
   "execution_count": 36,
   "metadata": {},
   "outputs": [
    {
     "output_type": "stream",
     "name": "stdout",
     "text": [
      "Model Accuracy is :->  85.0 %\n"
     ]
    }
   ],
   "source": [
    "from sklearn.metrics import accuracy_score\n",
    "score = accuracy_score(y_test, y_pred)\n",
    "print(\"Model Accuracy is :-> \", score*100,\"%\")"
   ]
  }
 ]
}
